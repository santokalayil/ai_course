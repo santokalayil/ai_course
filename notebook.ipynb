{
 "cells": [
  {
   "cell_type": "code",
   "execution_count": 1,
   "metadata": {},
   "outputs": [],
   "source": [
    "import json"
   ]
  },
  {
   "cell_type": "code",
   "execution_count": 30,
   "metadata": {},
   "outputs": [],
   "source": [
    "with open(\"chapter_1.json\") as f:\n",
    "    contents = json.load(f)\n",
    "\n",
    "# contents\n",
    "with open(\"chapter_1.json\", 'w') as f:\n",
    "    json.dump(contents, f, sort_keys=False, indent=4)"
   ]
  },
  {
   "cell_type": "code",
   "execution_count": 6,
   "metadata": {},
   "outputs": [
    {
     "name": "stdout",
     "output_type": "stream",
     "text": [
      "[\n",
      "    \"Machine learning, artificial intelligence, and deep learning are related but distinct fields.\",\n",
      "    \"Machine learning is a subset of artificial intelligence that focuses on building algorithms that can learn patterns and relationships in data without being explicitly programmed. Machine learning algorithms can be supervised, unsupervised, or semi-supervised, and can be used for tasks such as classification, regression, clustering, and reinforcement learning.\",\n",
      "    \"Artificial intelligence is a broad field that encompasses all aspects of creating intelligent machines that can simulate human behavior, perception, and cognition. AI includes machine learning, as well as other techniques such as rule-based systems, expert systems, genetic algorithms, and fuzzy logic.\",\n",
      "    \"Deep learning is a subfield of machine learning that uses artificial neural networks with multiple layers to model and solve complex problems. It is capable of learning from large amounts of data and has shown great success in a wide range of applications, including computer vision, natural language processing, speech recognition, and robotics.\",\n",
      "    \"In summary, machine learning is a subset of artificial intelligence that focuses on building algorithms that can learn patterns and relationships in data. Deep learning is a subfield of machine learning that uses artificial neural networks with multiple layers to model and solve complex problems. Artificial intelligence is a broader field that encompasses all aspects of creating intelligent machines.\"\n",
      "]\n"
     ]
    }
   ],
   "source": [
    "lines = \"\"\"\n",
    "Machine learning, artificial intelligence, and deep learning are related but distinct fields.\n",
    "\n",
    "Machine learning is a subset of artificial intelligence that focuses on building algorithms that can learn patterns and relationships in data without being explicitly programmed. Machine learning algorithms can be supervised, unsupervised, or semi-supervised, and can be used for tasks such as classification, regression, clustering, and reinforcement learning.\n",
    "\n",
    "Artificial intelligence is a broad field that encompasses all aspects of creating intelligent machines that can simulate human behavior, perception, and cognition. AI includes machine learning, as well as other techniques such as rule-based systems, expert systems, genetic algorithms, and fuzzy logic.\n",
    "\n",
    "Deep learning is a subfield of machine learning that uses artificial neural networks with multiple layers to model and solve complex problems. It is capable of learning from large amounts of data and has shown great success in a wide range of applications, including computer vision, natural language processing, speech recognition, and robotics.\n",
    "\n",
    "In summary, machine learning is a subset of artificial intelligence that focuses on building algorithms that can learn patterns and relationships in data. Deep learning is a subfield of machine learning that uses artificial neural networks with multiple layers to model and solve complex problems. Artificial intelligence is a broader field that encompasses all aspects of creating intelligent machines.\n",
    "\"\"\".split(\"\\n\\n\")\n",
    "print(json.dumps([l.strip() for l in lines if l.strip()], sort_keys=False, indent=4))"
   ]
  },
  {
   "cell_type": "code",
   "execution_count": 8,
   "metadata": {},
   "outputs": [
    {
     "data": {
      "text/plain": [
       "['• Ability to handle complex data: Deep learning algorithms are capable of handling high-dimensional and complex data, such as images, speech, and text, which traditional machine learning algorithms struggle with.',\n",
       " '• Automated feature extraction: Deep learning models can automatically learn relevant features from raw data, eliminating the need for manual feature engineering, which is time-consuming and requires domain expertise.',\n",
       " '• Improved accuracy: Deep learning models can achieve higher accuracy on a wide range of tasks, including image classification, speech recognition, and natural language processing, compared to traditional machine learning algorithms.',\n",
       " '• Scalability: Deep learning models can be scaled up easily to handle large amounts of data, using parallel computing on GPUs or TPUs, while traditional machine learning algorithms may struggle with scalability.',\n",
       " '• Flexibility: Deep learning models can be applied to a wide range of applications, from image and speech recognition to natural language processing and robotics, making it a versatile tool for solving complex problems.']"
      ]
     },
     "execution_count": 8,
     "metadata": {},
     "output_type": "execute_result"
    }
   ],
   "source": [
    "t = \"\"\"    • Ability to handle complex data: Deep learning algorithms are capable of handling high-dimensional and complex data, such as images, speech, and text, which traditional machine learning algorithms struggle with.\n",
    "    • Automated feature extraction: Deep learning models can automatically learn relevant features from raw data, eliminating the need for manual feature engineering, which is time-consuming and requires domain expertise.\n",
    "    • Improved accuracy: Deep learning models can achieve higher accuracy on a wide range of tasks, including image classification, speech recognition, and natural language processing, compared to traditional machine learning algorithms.\n",
    "    • Scalability: Deep learning models can be scaled up easily to handle large amounts of data, using parallel computing on GPUs or TPUs, while traditional machine learning algorithms may struggle with scalability.\n",
    "    • Flexibility: Deep learning models can be applied to a wide range of applications, from image and speech recognition to natural language processing and robotics, making it a versatile tool for solving complex problems.\"\"\"\n",
    "\n",
    "lines = [l.strip() for l in t.splitlines() if l.strip()]\n",
    "lines"
   ]
  },
  {
   "cell_type": "code",
   "execution_count": 16,
   "metadata": {},
   "outputs": [
    {
     "name": "stdout",
     "output_type": "stream",
     "text": [
      "{\n",
      "    \"Ability to handle complex data\": \"Deep learning algorithms are capable of handling high-dimensional and complex data, such as images, speech, and text, which traditional machine learning algorithms struggle with.\",\n",
      "    \"Automated feature extraction\": \"Deep learning models can automatically learn relevant features from raw data, eliminating the need for manual feature engineering, which is time-consuming and requires domain expertise.\",\n",
      "    \"Improved accuracy\": \"Deep learning models can achieve higher accuracy on a wide range of tasks, including image classification, speech recognition, and natural language processing, compared to traditional machine learning algorithms.\",\n",
      "    \"Scalability\": \"Deep learning models can be scaled up easily to handle large amounts of data, using parallel computing on GPUs or TPUs, while traditional machine learning algorithms may struggle with scalability.\",\n",
      "    \"Flexibility\": \"Deep learning models can be applied to a wide range of applications, from image and speech recognition to natural language processing and robotics, making it a versatile tool for solving complex problems.\"\n",
      "}\n"
     ]
    }
   ],
   "source": [
    "bullet = \"•\"\n",
    "title_separator = \":\"\n",
    "structured_content = {line.split(title_separator, maxsplit=2)[0].strip(f\" {bullet}\"):line.split(title_separator, maxsplit=2)[1].strip() for line in lines} if all([line.startswith(bullet) for line in lines]) else lines\n",
    "\n",
    "print(json.dumps(structured_content, sort_keys=False, indent=4))"
   ]
  },
  {
   "cell_type": "code",
   "execution_count": 20,
   "metadata": {},
   "outputs": [
    {
     "name": "stdout",
     "output_type": "stream",
     "text": [
      "[\n",
      "    \"During the 2000s, there was a resurgence of interest in neural networks, with researchers developing new algorithms and architectures for training them. One notable breakthrough was the introduction of the restricted Boltzmann machine (RBM) in 2006, which allowed for the training of deep neural networks. This paved the way for the development of deep learning algorithms that could handle large amounts of data and learn complex patterns in a way that was not possible before. Another important development during this time was the use of graphics processing units (GPUs) to speed up the training of deep neural networks, making it possible to train much larger networks than before. These advancements led to a significant increase in the performance of deep learning algorithms, leading to their widespread adoption in various fields.\"\n",
      "]\n"
     ]
    }
   ],
   "source": [
    "lines = \"\"\"During the 2000s, there was a resurgence of interest in neural networks, with researchers developing new algorithms and architectures for training them. One notable breakthrough was the introduction of the restricted Boltzmann machine (RBM) in 2006, which allowed for the training of deep neural networks. This paved the way for the development of deep learning algorithms that could handle large amounts of data and learn complex patterns in a way that was not possible before. Another important development during this time was the use of graphics processing units (GPUs) to speed up the training of deep neural networks, making it possible to train much larger networks than before. These advancements led to a significant increase in the performance of deep learning algorithms, leading to their widespread adoption in various fields.\"\"\".split(\"\\n\")\n",
    "print(json.dumps([l.strip() for l in lines if l.strip()], sort_keys=False, indent=4))"
   ]
  },
  {
   "cell_type": "code",
   "execution_count": 23,
   "metadata": {},
   "outputs": [
    {
     "name": "stdout",
     "output_type": "stream",
     "text": [
      "[\n",
      "    \"The breakthroughs in deep learning in the 2010s were largely driven by the availability of large datasets and the computational power to train deep neural networks. One of the key breakthroughs was the development of convolutional neural networks (CNNs) which revolutionized computer vision tasks such as image classification and object detection. Another breakthrough was the development of recurrent neural networks (RNNs) and long short-term memory (LSTM) networks which enabled the processing of sequential data such as natural language sentences and speech. These breakthroughs in deep learning have led to significant advancements in a wide range of applications including image and speech recognition, natural language processing, robotics, and healthcare, among others.\"\n",
      "]\n"
     ]
    }
   ],
   "source": [
    "convert_json_list = lambda text: print(json.dumps([l.strip() for l in text.splitlines() if l.strip()], sort_keys=False, indent=4))\n",
    "text = \"\"\"The breakthroughs in deep learning in the 2010s were largely driven by the availability of large datasets and the computational power to train deep neural networks. One of the key breakthroughs was the development of convolutional neural networks (CNNs) which revolutionized computer vision tasks such as image classification and object detection. Another breakthrough was the development of recurrent neural networks (RNNs) and long short-term memory (LSTM) networks which enabled the processing of sequential data such as natural language sentences and speech. These breakthroughs in deep learning have led to significant advancements in a wide range of applications including image and speech recognition, natural language processing, robotics, and healthcare, among others.\"\"\"\n",
    "convert_json_list(text)"
   ]
  },
  {
   "cell_type": "code",
   "execution_count": 25,
   "metadata": {},
   "outputs": [
    {
     "name": "stdout",
     "output_type": "stream",
     "text": [
      "[\n",
      "    \"The potential for future developments and innovations is another key reason why deep learning is important. With its ability to handle complex tasks and process vast amounts of data, deep learning has opened up new avenues for research and development in various fields.\",\n",
      "    \"One of the most exciting areas of development in deep learning is the use of generative models, which have the potential to create new data based on existing data. This has applications in a wide range of fields, from art and design to drug discovery and material science.\",\n",
      "    \"Another area of potential development is the use of deep learning in combination with other technologies such as augmented reality and virtual reality. This could lead to the creation of immersive experiences that simulate real-world environments and interactions.\",\n",
      "    \"Furthermore, the use of deep learning in combination with other types of machine learning, such as reinforcement learning, could lead to the development of intelligent agents that can learn and adapt to their environment.\",\n",
      "    \"Overall, the potential for future developments and innovations in deep learning is vast, and it is an exciting time to be involved in this field. As new applications and techniques are discovered, the impact of deep learning on various industries and fields is expected to grow exponentially.\"\n",
      "]\n"
     ]
    }
   ],
   "source": [
    "text = \"\"\"The potential for future developments and innovations is another key reason why deep learning is important. With its ability to handle complex tasks and process vast amounts of data, deep learning has opened up new avenues for research and development in various fields.\n",
    "\n",
    "One of the most exciting areas of development in deep learning is the use of generative models, which have the potential to create new data based on existing data. This has applications in a wide range of fields, from art and design to drug discovery and material science.\n",
    "\n",
    "Another area of potential development is the use of deep learning in combination with other technologies such as augmented reality and virtual reality. This could lead to the creation of immersive experiences that simulate real-world environments and interactions.\n",
    "\n",
    "Furthermore, the use of deep learning in combination with other types of machine learning, such as reinforcement learning, could lead to the development of intelligent agents that can learn and adapt to their environment.\n",
    "\n",
    "Overall, the potential for future developments and innovations in deep learning is vast, and it is an exciting time to be involved in this field. As new applications and techniques are discovered, the impact of deep learning on various industries and fields is expected to grow exponentially.\"\"\"\n",
    "convert_json_list(text)"
   ]
  },
  {
   "cell_type": "code",
   "execution_count": 29,
   "metadata": {},
   "outputs": [
    {
     "name": "stdout",
     "output_type": "stream",
     "text": [
      "[\n",
      "    \"\\\"Deep Learning\\\" by Ian Goodfellow, Yoshua Bengio, and Aaron Courville - This book is widely considered as one of the best resources for learning about deep learning. It covers the fundamentals of the field and provides a comprehensive overview of the latest research.\",\n",
      "    \"\\\"Neural Networks and Deep Learning\\\" by Michael Nielsen - This book is a great introduction to the basics of neural networks and deep learning. It provides a clear and concise explanation of the key concepts and includes interactive code examples.\",\n",
      "    \"\\\"Deep Learning with Python\\\" by Fran\\u00e7ois Chollet - This book provides a practical introduction to deep learning with Python. It covers the basics of Keras, a popular deep learning framework, and provides a range of examples and case studies.\",\n",
      "    \"\\\"Stanford CS229: Machine Learning\\\" - This course provides a comprehensive introduction to machine learning, including deep learning. It covers a range of topics, from linear regression to neural networks, and includes lectures, assignments, and exams.\",\n",
      "    \"\\\"deeplearning.ai\\\" - This is a series of online courses taught by Andrew Ng, a prominent figure in the field of machine learning. The courses cover a range of topics, from neural networks to deep learning frameworks, and provide a comprehensive introduction to the field.\",\n",
      "    \"\\\"TensorFlow\\\" - TensorFlow is a popular deep learning framework developed by Google. The official TensorFlow website provides a range of resources for learning about the framework, including tutorials, code examples, and documentation.\",\n",
      "    \"\\\"PyTorch\\\" - PyTorch is another popular deep learning framework that has gained widespread adoption in recent years. The official PyTorch website provides a range of resources for learning about the framework, including tutorials, code examples, and documentation.\",\n",
      "    \"\\\"Arxiv.org\\\" - This is a repository of research papers in a wide range of fields, including deep learning. It is a great resource for staying up-to-date with the latest research in the field.\",\n",
      "    \"\\\"Kaggle.com\\\" - Kaggle is a platform for data science competitions and projects. It provides a range of datasets and challenges for practicing and learning about deep learning.\",\n",
      "    \"\\\"GitHub.com\\\" - GitHub is a platform for hosting and sharing code repositories. It is a great resource for finding and sharing deep learning code examples, projects, and research papers.\"\n",
      "]\n"
     ]
    }
   ],
   "source": [
    "text = \"\"\"\"Deep Learning\" by Ian Goodfellow, Yoshua Bengio, and Aaron Courville - This book is widely considered as one of the best resources for learning about deep learning. It covers the fundamentals of the field and provides a comprehensive overview of the latest research.\n",
    "\n",
    "\"Neural Networks and Deep Learning\" by Michael Nielsen - This book is a great introduction to the basics of neural networks and deep learning. It provides a clear and concise explanation of the key concepts and includes interactive code examples.\n",
    "\n",
    "\"Deep Learning with Python\" by François Chollet - This book provides a practical introduction to deep learning with Python. It covers the basics of Keras, a popular deep learning framework, and provides a range of examples and case studies.\n",
    "\n",
    "\"Stanford CS229: Machine Learning\" - This course provides a comprehensive introduction to machine learning, including deep learning. It covers a range of topics, from linear regression to neural networks, and includes lectures, assignments, and exams.\n",
    "\n",
    "\"deeplearning.ai\" - This is a series of online courses taught by Andrew Ng, a prominent figure in the field of machine learning. The courses cover a range of topics, from neural networks to deep learning frameworks, and provide a comprehensive introduction to the field.\n",
    "\n",
    "\"TensorFlow\" - TensorFlow is a popular deep learning framework developed by Google. The official TensorFlow website provides a range of resources for learning about the framework, including tutorials, code examples, and documentation.\n",
    "\n",
    "\"PyTorch\" - PyTorch is another popular deep learning framework that has gained widespread adoption in recent years. The official PyTorch website provides a range of resources for learning about the framework, including tutorials, code examples, and documentation.\n",
    "\n",
    "\"Arxiv.org\" - This is a repository of research papers in a wide range of fields, including deep learning. It is a great resource for staying up-to-date with the latest research in the field.\n",
    "\n",
    "\"Kaggle.com\" - Kaggle is a platform for data science competitions and projects. It provides a range of datasets and challenges for practicing and learning about deep learning.\n",
    "\n",
    "\"GitHub.com\" - GitHub is a platform for hosting and sharing code repositories. It is a great resource for finding and sharing deep learning code examples, projects, and research papers.\"\"\"\n",
    "convert_json_list(text)"
   ]
  },
  {
   "cell_type": "code",
   "execution_count": null,
   "metadata": {},
   "outputs": [],
   "source": []
  }
 ],
 "metadata": {
  "kernelspec": {
   "display_name": "ai-book-creation-rq8WmMcH-py3.8",
   "language": "python",
   "name": "python3"
  },
  "language_info": {
   "codemirror_mode": {
    "name": "ipython",
    "version": 3
   },
   "file_extension": ".py",
   "mimetype": "text/x-python",
   "name": "python",
   "nbconvert_exporter": "python",
   "pygments_lexer": "ipython3",
   "version": "3.8.10"
  },
  "orig_nbformat": 4
 },
 "nbformat": 4,
 "nbformat_minor": 2
}
